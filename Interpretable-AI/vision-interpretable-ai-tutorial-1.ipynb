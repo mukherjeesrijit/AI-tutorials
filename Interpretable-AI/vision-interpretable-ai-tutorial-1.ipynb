{
  "nbformat": 4,
  "nbformat_minor": 0,
  "metadata": {
    "colab": {
      "provenance": [],
      "gpuType": "T4",
      "collapsed_sections": [
        "yPexVYEXaKcO",
        "yO7d2rbxaUfK",
        "I4T4RaSdcPeq",
        "kHmPTutoagKE",
        "25PP8TdjajSG",
        "UoePsheaenNG"
      ]
    },
    "kernelspec": {
      "name": "python3",
      "display_name": "Python 3"
    },
    "language_info": {
      "name": "python"
    },
    "accelerator": "GPU"
  },
  "cells": [
    {
      "cell_type": "markdown",
      "source": [
        "# Loading the Dataset"
      ],
      "metadata": {
        "id": "0YUaOPSWXIKd"
      }
    },
    {
      "cell_type": "code",
      "source": [
        "import torch\n",
        "import torch.nn as nn\n",
        "import torch.optim as optim\n",
        "import torchvision\n",
        "import torchvision.transforms as transforms\n",
        "import matplotlib.pyplot as plt\n",
        "import numpy as np\n",
        "from torchvision.models import resnet18\n",
        "from torch.utils.data import random_split, DataLoader\n",
        "\n",
        "# Check device\n",
        "device = torch.device(\"cuda\" if torch.cuda.is_available() else \"cpu\")\n",
        "\n",
        "# Load MNIST dataset (ResNet requires 3-channel input, so we expand channels)\n",
        "transform = transforms.Compose([\n",
        "    transforms.Grayscale(num_output_channels=3),  # Convert 1-channel to 3-channel\n",
        "    transforms.ToTensor(),\n",
        "    transforms.Normalize((0.5,), (0.5,))\n",
        "])\n",
        "\n",
        "# Download MNIST dataset\n",
        "full_trainset = torchvision.datasets.MNIST(root='./data', train=True, download=True, transform=transform)\n",
        "\n",
        "# Split into train (90%) and validation (10%) sets\n",
        "train_size = int(0.9 * len(full_trainset))\n",
        "val_size = len(full_trainset) - train_size\n",
        "trainset, valset = random_split(full_trainset, [train_size, val_size])\n",
        "\n",
        "# Data loaders\n",
        "trainloader = DataLoader(trainset, batch_size=64, shuffle=True)\n",
        "valloader = DataLoader(valset, batch_size=64, shuffle=False)\n",
        "\n",
        "# Modify ResNet18 for MNIST\n",
        "model = resnet18(pretrained=False)  # Load ResNet18 without ImageNet weights\n",
        "model.conv1 = nn.Conv2d(in_channels=3, out_channels=64, kernel_size=7, stride=2, padding=3, bias=False)  # Modify for 3-channel MNIST\n",
        "model.fc = nn.Linear(512, 10)  # Adjust for 10 output classes (digits 0-9)\n",
        "model = model.to(device)\n",
        "\n",
        "# Loss function and optimizer\n",
        "criterion = nn.CrossEntropyLoss()\n",
        "optimizer = optim.Adam(model.parameters(), lr=0.001)\n",
        "scheduler = optim.lr_scheduler.ReduceLROnPlateau(optimizer, mode='min', factor=0.5, patience=3)"
      ],
      "metadata": {
        "collapsed": true,
        "id": "L0P3L-fZL6mU",
        "colab": {
          "base_uri": "https://localhost:8080/",
          "height": 0
        },
        "outputId": "8ccc04ff-85fa-4ff5-f0c5-1c4f7eaf854f"
      },
      "execution_count": 2,
      "outputs": [
        {
          "output_type": "stream",
          "name": "stderr",
          "text": [
            "/usr/local/lib/python3.11/dist-packages/torchvision/models/_utils.py:223: UserWarning: Arguments other than a weight enum or `None` for 'weights' are deprecated since 0.13 and may be removed in the future. The current behavior is equivalent to passing `weights=None`.\n",
            "  warnings.warn(msg)\n"
          ]
        }
      ]
    },
    {
      "cell_type": "markdown",
      "source": [
        "# Training the Model\n",
        "with early stopping to avoid overfitting"
      ],
      "metadata": {
        "id": "73HZBTZeXQkO"
      }
    },
    {
      "cell_type": "code",
      "execution_count": null,
      "metadata": {
        "id": "G0FDy99se18S",
        "colab": {
          "base_uri": "https://localhost:8080/"
        },
        "outputId": "dae164b3-1a36-4b84-84e7-bbb65dc355b6"
      },
      "outputs": [
        {
          "output_type": "stream",
          "name": "stdout",
          "text": [
            "Epoch 1/100, Train Loss: 0.0798, Val Loss: 0.0348\n",
            "Epoch 2/100, Train Loss: 0.0441, Val Loss: 0.0468\n",
            "Epoch 3/100, Train Loss: 0.0361, Val Loss: 0.0813\n",
            "Epoch 4/100, Train Loss: 0.0297, Val Loss: 0.0347\n",
            "Epoch 5/100, Train Loss: 0.0270, Val Loss: 0.0309\n",
            "Epoch 6/100, Train Loss: 0.0258, Val Loss: 0.0267\n",
            "Epoch 7/100, Train Loss: 0.0237, Val Loss: 0.0355\n",
            "Epoch 8/100, Train Loss: 0.0222, Val Loss: 0.0323\n",
            "Epoch 9/100, Train Loss: 0.0188, Val Loss: 0.0512\n",
            "Epoch 10/100, Train Loss: 0.0195, Val Loss: 0.0442\n",
            "Epoch 11/100, Train Loss: 0.0077, Val Loss: 0.0238\n",
            "Epoch 12/100, Train Loss: 0.0054, Val Loss: 0.0284\n",
            "Epoch 13/100, Train Loss: 0.0067, Val Loss: 0.0229\n",
            "Epoch 14/100, Train Loss: 0.0063, Val Loss: 0.0188\n",
            "Epoch 15/100, Train Loss: 0.0066, Val Loss: 0.0258\n",
            "Epoch 16/100, Train Loss: 0.0048, Val Loss: 0.0322\n",
            "Epoch 17/100, Train Loss: 0.0049, Val Loss: 0.0407\n",
            "Epoch 18/100, Train Loss: 0.0043, Val Loss: 0.0289\n",
            "Epoch 19/100, Train Loss: 0.0019, Val Loss: 0.0245\n",
            "Early stopping triggered. Training stopped.\n",
            "Training complete.\n"
          ]
        }
      ],
      "source": [
        "# Early stopping parameters\n",
        "patience = 5  # Stop if val loss doesn't improve for 5 epochs\n",
        "best_val_loss = float('inf')\n",
        "epochs_no_improve = 0\n",
        "\n",
        "# Training loop with early stopping\n",
        "epochs = 100  # Maximum epochs\n",
        "train_losses, val_losses = [], []\n",
        "\n",
        "for epoch in range(epochs):\n",
        "    # Training phase\n",
        "    model.train()\n",
        "    running_loss = 0.0\n",
        "    for images, labels in trainloader:\n",
        "        images, labels = images.to(device), labels.to(device)\n",
        "\n",
        "        optimizer.zero_grad()\n",
        "        outputs = model(images)\n",
        "        loss = criterion(outputs, labels)\n",
        "        loss.backward()\n",
        "        optimizer.step()\n",
        "        running_loss += loss.item()\n",
        "\n",
        "    train_loss = running_loss / len(trainloader)\n",
        "    train_losses.append(train_loss)\n",
        "\n",
        "    # Validation phase\n",
        "    model.eval()\n",
        "    val_loss = 0.0\n",
        "    with torch.no_grad():\n",
        "        for images, labels in valloader:\n",
        "            images, labels = images.to(device), labels.to(device)\n",
        "            outputs = model(images)\n",
        "            loss = criterion(outputs, labels)\n",
        "            val_loss += loss.item()\n",
        "\n",
        "    val_loss /= len(valloader)\n",
        "    val_losses.append(val_loss)\n",
        "    scheduler.step(val_loss)\n",
        "\n",
        "    print(f\"Epoch {epoch+1}/{epochs}, Train Loss: {train_loss:.4f}, Val Loss: {val_loss:.4f}\")\n",
        "\n",
        "    # Early stopping check\n",
        "    if val_loss < best_val_loss:\n",
        "        best_val_loss = val_loss\n",
        "        epochs_no_improve = 0  # Reset counter\n",
        "        torch.save(model.state_dict(), \"best_model.pth\")  # Save best model\n",
        "    else:\n",
        "        epochs_no_improve += 1\n",
        "\n",
        "    if epochs_no_improve >= patience:\n",
        "        print(\"Early stopping triggered. Training stopped.\")\n",
        "        break\n",
        "\n",
        "print(\"Training complete.\")"
      ]
    },
    {
      "cell_type": "markdown",
      "source": [
        "# Check the Model Layers"
      ],
      "metadata": {
        "id": "PPrMgRA_XUzm"
      }
    },
    {
      "cell_type": "code",
      "source": [
        "print(model)"
      ],
      "metadata": {
        "id": "1UEDzcvTLvpg",
        "colab": {
          "base_uri": "https://localhost:8080/"
        },
        "outputId": "157edffe-b7bd-4aeb-e430-00f147986c35"
      },
      "execution_count": null,
      "outputs": [
        {
          "output_type": "stream",
          "name": "stdout",
          "text": [
            "ResNet(\n",
            "  (conv1): Conv2d(3, 64, kernel_size=(7, 7), stride=(2, 2), padding=(3, 3), bias=False)\n",
            "  (bn1): BatchNorm2d(64, eps=1e-05, momentum=0.1, affine=True, track_running_stats=True)\n",
            "  (relu): ReLU(inplace=True)\n",
            "  (maxpool): MaxPool2d(kernel_size=3, stride=2, padding=1, dilation=1, ceil_mode=False)\n",
            "  (layer1): Sequential(\n",
            "    (0): BasicBlock(\n",
            "      (conv1): Conv2d(64, 64, kernel_size=(3, 3), stride=(1, 1), padding=(1, 1), bias=False)\n",
            "      (bn1): BatchNorm2d(64, eps=1e-05, momentum=0.1, affine=True, track_running_stats=True)\n",
            "      (relu): ReLU(inplace=True)\n",
            "      (conv2): Conv2d(64, 64, kernel_size=(3, 3), stride=(1, 1), padding=(1, 1), bias=False)\n",
            "      (bn2): BatchNorm2d(64, eps=1e-05, momentum=0.1, affine=True, track_running_stats=True)\n",
            "    )\n",
            "    (1): BasicBlock(\n",
            "      (conv1): Conv2d(64, 64, kernel_size=(3, 3), stride=(1, 1), padding=(1, 1), bias=False)\n",
            "      (bn1): BatchNorm2d(64, eps=1e-05, momentum=0.1, affine=True, track_running_stats=True)\n",
            "      (relu): ReLU(inplace=True)\n",
            "      (conv2): Conv2d(64, 64, kernel_size=(3, 3), stride=(1, 1), padding=(1, 1), bias=False)\n",
            "      (bn2): BatchNorm2d(64, eps=1e-05, momentum=0.1, affine=True, track_running_stats=True)\n",
            "    )\n",
            "  )\n",
            "  (layer2): Sequential(\n",
            "    (0): BasicBlock(\n",
            "      (conv1): Conv2d(64, 128, kernel_size=(3, 3), stride=(2, 2), padding=(1, 1), bias=False)\n",
            "      (bn1): BatchNorm2d(128, eps=1e-05, momentum=0.1, affine=True, track_running_stats=True)\n",
            "      (relu): ReLU(inplace=True)\n",
            "      (conv2): Conv2d(128, 128, kernel_size=(3, 3), stride=(1, 1), padding=(1, 1), bias=False)\n",
            "      (bn2): BatchNorm2d(128, eps=1e-05, momentum=0.1, affine=True, track_running_stats=True)\n",
            "      (downsample): Sequential(\n",
            "        (0): Conv2d(64, 128, kernel_size=(1, 1), stride=(2, 2), bias=False)\n",
            "        (1): BatchNorm2d(128, eps=1e-05, momentum=0.1, affine=True, track_running_stats=True)\n",
            "      )\n",
            "    )\n",
            "    (1): BasicBlock(\n",
            "      (conv1): Conv2d(128, 128, kernel_size=(3, 3), stride=(1, 1), padding=(1, 1), bias=False)\n",
            "      (bn1): BatchNorm2d(128, eps=1e-05, momentum=0.1, affine=True, track_running_stats=True)\n",
            "      (relu): ReLU(inplace=True)\n",
            "      (conv2): Conv2d(128, 128, kernel_size=(3, 3), stride=(1, 1), padding=(1, 1), bias=False)\n",
            "      (bn2): BatchNorm2d(128, eps=1e-05, momentum=0.1, affine=True, track_running_stats=True)\n",
            "    )\n",
            "  )\n",
            "  (layer3): Sequential(\n",
            "    (0): BasicBlock(\n",
            "      (conv1): Conv2d(128, 256, kernel_size=(3, 3), stride=(2, 2), padding=(1, 1), bias=False)\n",
            "      (bn1): BatchNorm2d(256, eps=1e-05, momentum=0.1, affine=True, track_running_stats=True)\n",
            "      (relu): ReLU(inplace=True)\n",
            "      (conv2): Conv2d(256, 256, kernel_size=(3, 3), stride=(1, 1), padding=(1, 1), bias=False)\n",
            "      (bn2): BatchNorm2d(256, eps=1e-05, momentum=0.1, affine=True, track_running_stats=True)\n",
            "      (downsample): Sequential(\n",
            "        (0): Conv2d(128, 256, kernel_size=(1, 1), stride=(2, 2), bias=False)\n",
            "        (1): BatchNorm2d(256, eps=1e-05, momentum=0.1, affine=True, track_running_stats=True)\n",
            "      )\n",
            "    )\n",
            "    (1): BasicBlock(\n",
            "      (conv1): Conv2d(256, 256, kernel_size=(3, 3), stride=(1, 1), padding=(1, 1), bias=False)\n",
            "      (bn1): BatchNorm2d(256, eps=1e-05, momentum=0.1, affine=True, track_running_stats=True)\n",
            "      (relu): ReLU(inplace=True)\n",
            "      (conv2): Conv2d(256, 256, kernel_size=(3, 3), stride=(1, 1), padding=(1, 1), bias=False)\n",
            "      (bn2): BatchNorm2d(256, eps=1e-05, momentum=0.1, affine=True, track_running_stats=True)\n",
            "    )\n",
            "  )\n",
            "  (layer4): Sequential(\n",
            "    (0): BasicBlock(\n",
            "      (conv1): Conv2d(256, 512, kernel_size=(3, 3), stride=(2, 2), padding=(1, 1), bias=False)\n",
            "      (bn1): BatchNorm2d(512, eps=1e-05, momentum=0.1, affine=True, track_running_stats=True)\n",
            "      (relu): ReLU(inplace=True)\n",
            "      (conv2): Conv2d(512, 512, kernel_size=(3, 3), stride=(1, 1), padding=(1, 1), bias=False)\n",
            "      (bn2): BatchNorm2d(512, eps=1e-05, momentum=0.1, affine=True, track_running_stats=True)\n",
            "      (downsample): Sequential(\n",
            "        (0): Conv2d(256, 512, kernel_size=(1, 1), stride=(2, 2), bias=False)\n",
            "        (1): BatchNorm2d(512, eps=1e-05, momentum=0.1, affine=True, track_running_stats=True)\n",
            "      )\n",
            "    )\n",
            "    (1): BasicBlock(\n",
            "      (conv1): Conv2d(512, 512, kernel_size=(3, 3), stride=(1, 1), padding=(1, 1), bias=False)\n",
            "      (bn1): BatchNorm2d(512, eps=1e-05, momentum=0.1, affine=True, track_running_stats=True)\n",
            "      (relu): ReLU(inplace=True)\n",
            "      (conv2): Conv2d(512, 512, kernel_size=(3, 3), stride=(1, 1), padding=(1, 1), bias=False)\n",
            "      (bn2): BatchNorm2d(512, eps=1e-05, momentum=0.1, affine=True, track_running_stats=True)\n",
            "    )\n",
            "  )\n",
            "  (avgpool): AdaptiveAvgPool2d(output_size=(1, 1))\n",
            "  (fc): Linear(in_features=512, out_features=10, bias=True)\n",
            ")\n"
          ]
        }
      ]
    },
    {
      "cell_type": "markdown",
      "source": [
        "# Visualize the Learned CNN Filters"
      ],
      "metadata": {
        "id": "yPexVYEXaKcO"
      }
    },
    {
      "cell_type": "code",
      "source": [
        "def visualize_filters_grayscale(model):\n",
        "    filters = model.conv1.weight.data.cpu().numpy()  # Get filter weights\n",
        "    filters = (filters - filters.min()) / (filters.max() - filters.min())  # Normalize to [0,1]\n",
        "\n",
        "    fig, axes = plt.subplots(8, 8, figsize=(8, 8))\n",
        "    for i, ax in enumerate(axes.flat):\n",
        "        if i < filters.shape[0]:\n",
        "            grayscale_filter = np.mean(filters[i], axis=0)  # Convert 3-channel to 1-channel (grayscale)\n",
        "            ax.imshow(grayscale_filter, cmap='gray')  # Show in grayscale\n",
        "            ax.axis(\"off\")\n",
        "\n",
        "    plt.show()\n",
        "\n",
        "visualize_filters_grayscale(model)"
      ],
      "metadata": {
        "id": "rb8L64AZLIaV",
        "colab": {
          "base_uri": "https://localhost:8080/",
          "height": 643
        },
        "outputId": "b0db1603-2386-4088-ce75-27373b5db2d9"
      },
      "execution_count": null,
      "outputs": [
        {
          "output_type": "display_data",
          "data": {
            "text/plain": [
              "<Figure size 800x800 with 64 Axes>"
            ],
            "image/png": "[encoded data removed]"
          },
          "metadata": {}
        }
      ]
    },
    {
      "cell_type": "markdown",
      "source": [
        "# Visualize how specific images behave through filters"
      ],
      "metadata": {
        "id": "yO7d2rbxaUfK"
      }
    },
    {
      "cell_type": "markdown",
      "source": [
        "## Visualizing a sober filter as an image"
      ],
      "metadata": {
        "id": "I4T4RaSdcPeq"
      }
    },
    {
      "cell_type": "code",
      "source": [
        "import torch\n",
        "import numpy as np\n",
        "import matplotlib.pyplot as plt\n",
        "\n",
        "# Create a 28x28 Sobel-like filter as shown before\n",
        "sobel_size = 28\n",
        "sobel_filter = np.zeros((sobel_size, sobel_size))\n",
        "\n",
        "# Horizontal Sobel-like filter pattern\n",
        "for i in range(sobel_size):\n",
        "    for j in range(sobel_size):\n",
        "        if j < sobel_size // 2:\n",
        "            sobel_filter[i, j] = -1 * (sobel_size // 2 - j)\n",
        "        elif j > sobel_size // 2:\n",
        "            sobel_filter[i, j] = 1 * (j - sobel_size // 2)\n",
        "\n",
        "# Normalize the filter to a range of 0 to 1\n",
        "sobel_filter = (sobel_filter - sobel_filter.min()) / (sobel_filter.max() - sobel_filter.min())\n",
        "\n",
        "# Expand the Sobel filter to 3 channels by repeating along the third dimension\n",
        "sobel_filter_3d = np.repeat(sobel_filter[:, :, np.newaxis], 3, axis=2)\n",
        "\n",
        "# Convert to a PyTorch tensor and add a batch dimension\n",
        "sobel_tensor_3d = torch.tensor(sobel_filter_3d, dtype=torch.float32).unsqueeze(0)\n",
        "\n",
        "# Now `sobel_tensor_3d` can be passed into a model as an image input\n",
        "print(f\"Shape of Sobel filter 3D tensor: {sobel_tensor_3d.shape}\")\n",
        "\n",
        "# Visualize the Sobel filter as a 3-channel image\n",
        "plt.imshow(sobel_filter_3d)\n",
        "plt.title(\"28x28 3-Channel Sobel-like Filter\")\n",
        "plt.axis('off')\n",
        "plt.show()\n",
        "\n",
        "# From shape (1, 28, 28, 3) to (1, 3, 28, 28)\n",
        "sobel_tensor_3d = sobel_tensor_3d.permute(0, 3, 1, 2)\n",
        "\n",
        "# Now `sobel_tensor_3d` can be passed into a model as an image input\n",
        "print(f\"Shape of Sobel filter 3D tensor: {sobel_tensor_3d.shape}\")"
      ],
      "metadata": {
        "id": "d6a0Iie6b8Mi",
        "colab": {
          "base_uri": "https://localhost:8080/",
          "height": 464
        },
        "outputId": "acb5191c-f350-4724-88df-7b42f822662f"
      },
      "execution_count": null,
      "outputs": [
        {
          "output_type": "stream",
          "name": "stdout",
          "text": [
            "Shape of Sobel filter 3D tensor: torch.Size([1, 28, 28, 3])\n"
          ]
        },
        {
          "output_type": "display_data",
          "data": {
            "text/plain": [
              "<Figure size 640x480 with 1 Axes>"
            ],
            "image/png": "[encoded data removed]"
          },
          "metadata": {}
        },
        {
          "output_type": "stream",
          "name": "stdout",
          "text": [
            "Shape of Sobel filter 3D tensor: torch.Size([1, 3, 28, 28])\n"
          ]
        }
      ]
    },
    {
      "cell_type": "markdown",
      "source": [
        "## Loading one image from dataloader"
      ],
      "metadata": {
        "id": "kHmPTutoagKE"
      }
    },
    {
      "cell_type": "code",
      "source": [
        "def visualize_image(image):\n",
        "    # If image is on the GPU, move it to CPU for visualization\n",
        "    image = image.cpu().numpy().transpose(1, 2, 0)  # Convert from CHW to HWC format\n",
        "\n",
        "    plt.imshow(image)\n",
        "    plt.axis('off')  # Hide the axis\n",
        "    plt.show()\n",
        "\n",
        "# Example usage with an image from the dataloader\n",
        "dataiter = iter(valloader)  # Assuming you are using the trainloader\n",
        "image, label = next(dataiter)  # Get a batch\n",
        "image = image[0]  # Take a single image\n",
        "visualize_image(image)\n",
        "\n",
        "# Example usage with an image from the dataloader\n",
        "device = torch.device(\"cuda\" if torch.cuda.is_available() else \"cpu\")\n",
        "model = model.to(device)  # Ensure the model is on the same device"
      ],
      "metadata": {
        "id": "qDF-rOJvZXIE",
        "colab": {
          "base_uri": "https://localhost:8080/",
          "height": 444
        },
        "outputId": "16ee1f88-7031-4b19-d0fb-c541d88fe347"
      },
      "execution_count": null,
      "outputs": [
        {
          "output_type": "stream",
          "name": "stderr",
          "text": [
            "WARNING:matplotlib.image:Clipping input data to the valid range for imshow with RGB data ([0..1] for floats or [0..255] for integers). Got range [-1.0..1.0].\n"
          ]
        },
        {
          "output_type": "display_data",
          "data": {
            "text/plain": [
              "<Figure size 640x480 with 1 Axes>"
            ],
            "image/png": "[encoded data removed]"
          },
          "metadata": {}
        }
      ]
    },
    {
      "cell_type": "markdown",
      "source": [
        "## Visualizing how filters activate the image differently  "
      ],
      "metadata": {
        "id": "25PP8TdjajSG"
      }
    },
    {
      "cell_type": "code",
      "source": [
        "import torch\n",
        "import matplotlib.pyplot as plt\n",
        "import numpy as np\n",
        "\n",
        "def visualize_feature_maps(model, image, device):\n",
        "    # Move image to the same device as the model\n",
        "    image = image.to(device)  # Ensure image is on the same device as the model\n",
        "\n",
        "    # Extract the output of the first conv layer\n",
        "    with torch.no_grad():\n",
        "        feature_maps = model.conv1(image)  # Forward pass through conv1\n",
        "\n",
        "    feature_maps = feature_maps.squeeze(0).cpu().numpy()  # Remove batch dimension and convert to numpy\n",
        "\n",
        "    # Normalize feature maps for visualization\n",
        "    feature_maps = (feature_maps - feature_maps.min()) / (feature_maps.max() - feature_maps.min())\n",
        "\n",
        "    num_filters = feature_maps.shape[0]\n",
        "    cols = 8\n",
        "    rows = (num_filters // cols) + (num_filters % cols > 0)\n",
        "\n",
        "    fig, axes = plt.subplots(rows, cols, figsize=(8, 8))\n",
        "    for i, ax in enumerate(axes.flat):\n",
        "        if i < num_filters:\n",
        "            ax.imshow(feature_maps[i], cmap=\"gray\")  # Show each feature map\n",
        "        ax.axis(\"off\")\n",
        "\n",
        "    plt.show()"
      ],
      "metadata": {
        "id": "tCixuc-KY90t"
      },
      "execution_count": null,
      "outputs": []
    },
    {
      "cell_type": "markdown",
      "source": [
        "### visualizing on a 28x28 sober filter (not trained on)"
      ],
      "metadata": {
        "id": "w6ZQ6nUheb_6"
      }
    },
    {
      "cell_type": "code",
      "source": [
        "visualize_feature_maps(model, sobel_tensor_3d, device)"
      ],
      "metadata": {
        "id": "QiiaKOjiebh8",
        "colab": {
          "base_uri": "https://localhost:8080/",
          "height": 643
        },
        "outputId": "0a8520f8-f317-474a-8912-ba8260a37a40"
      },
      "execution_count": null,
      "outputs": [
        {
          "output_type": "display_data",
          "data": {
            "text/plain": [
              "<Figure size 800x800 with 64 Axes>"
            ],
            "image/png": "[encoded data removed]"
          },
          "metadata": {}
        }
      ]
    },
    {
      "cell_type": "markdown",
      "source": [
        "### visualizing on a dataloader image"
      ],
      "metadata": {
        "id": "k3OziJTTegF6"
      }
    },
    {
      "cell_type": "code",
      "source": [
        "visualize_feature_maps(model, image, device)"
      ],
      "metadata": {
        "id": "E5MX1_IxeKuu",
        "colab": {
          "base_uri": "https://localhost:8080/",
          "height": 643
        },
        "outputId": "8eae0cf5-38ff-47ff-d345-d0ed7e641f32"
      },
      "execution_count": null,
      "outputs": [
        {
          "output_type": "display_data",
          "data": {
            "text/plain": [
              "<Figure size 800x800 with 64 Axes>"
            ],
            "image/png": "[encoded data removed]"
          },
          "metadata": {}
        }
      ]
    },
    {
      "cell_type": "markdown",
      "source": [
        "# Activation Maximization"
      ],
      "metadata": {
        "id": "UoePsheaenNG"
      }
    },
    {
      "cell_type": "code",
      "source": [
        "import torch\n",
        "import torch.nn.functional as F\n",
        "import torchvision.models as models\n",
        "import matplotlib.pyplot as plt\n",
        "import numpy as np\n",
        "from scipy.ndimage import gaussian_filter\n",
        "\n",
        "# Load a pre-trained model (ResNet18 example)\n",
        "device = torch.device(\"cuda\" if torch.cuda.is_available() else \"cpu\")\n",
        "model.eval()  # Set model to evaluation mode\n",
        "\n",
        "# Select a target layer (e.g., first layer of ResNet block 1)\n",
        "target_layer = model.layer1[0].conv2 #model.conv1\n",
        "\n",
        "# Hook to capture activations from the target layer\n",
        "activation = None\n",
        "def hook_fn(module, input, output):\n",
        "    global activation\n",
        "    activation = output  # Save the activation\n",
        "\n",
        "hook = target_layer.register_forward_hook(hook_fn)\n",
        "\n",
        "# Generate a random input image initialized with noise\n",
        "input_img = torch.randn(1, 3, 100, 100, device=device, requires_grad=True)\n",
        "\n",
        "# Optimization settings\n",
        "optimizer = torch.optim.Adam([input_img], lr=0.1)\n",
        "lambda_reg = 10  # Regularization coefficient\n",
        "num_iterations = 1000  # Number of optimization steps\n",
        "gaussian_blur = True  # Whether to apply Gaussian blur regularization\n",
        "L2_decay = True  # Whether to apply L2 decay\n",
        "\n",
        "# Activation maximization loop\n",
        "best_activation = -float('inf')\n",
        "best_img = input_img\n",
        "\n",
        "for i in range(num_iterations):\n",
        "    optimizer.zero_grad()\n",
        "\n",
        "    # Forward pass\n",
        "    model(input_img)  # This triggers the hook and saves activations\n",
        "\n",
        "    # Maximize the activation of the target layer\n",
        "    loss = -activation.mean()  # Maximize activation of the entire layer\n",
        "\n",
        "    # Regularization: L1 regularization\n",
        "    loss += lambda_reg * torch.norm(input_img, p=1)\n",
        "\n",
        "    # Backpropagation\n",
        "    loss.backward()\n",
        "    optimizer.step()\n",
        "\n",
        "    # Apply Gaussian blur (if enabled)\n",
        "    if gaussian_blur:\n",
        "        img_np = input_img.squeeze(0).cpu().detach().numpy()\n",
        "        img_np = gaussian_filter(img_np, sigma=1)\n",
        "        input_img.data = torch.from_numpy(img_np).unsqueeze(0).to(device)\n",
        "\n",
        "    # Apply L2 decay (if enabled)\n",
        "    if L2_decay:\n",
        "        input_img.data *= 0.9\n",
        "\n",
        "    # Normalize image to stay within range [-1, 1]\n",
        "    input_img.data = torch.clamp(input_img.data, -1, 1)\n",
        "\n",
        "    # Save the best image based on the highest activation\n",
        "    if activation.mean() > best_activation:\n",
        "        best_activation = activation.mean()\n",
        "        best_img = input_img.detach().clone()\n",
        "\n",
        "    if i % 100 == 0:\n",
        "        print(f\"Iteration {i}, Loss: {loss.item()}\")\n",
        "\n",
        "# Remove hook\n",
        "hook.remove()"
      ],
      "metadata": {
        "id": "rZPp9MZZucsF",
        "colab": {
          "base_uri": "https://localhost:8080/"
        },
        "outputId": "c8531d5b-de49-4ddf-d921-b8d6f2b207de"
      },
      "execution_count": null,
      "outputs": [
        {
          "output_type": "stream",
          "name": "stdout",
          "text": [
            "Iteration 0, Loss: 237153.359375\n",
            "Iteration 100, Loss: 1355.9991455078125\n",
            "Iteration 200, Loss: 1441.4600830078125\n",
            "Iteration 300, Loss: 1441.674560546875\n",
            "Iteration 400, Loss: 1443.28759765625\n",
            "Iteration 500, Loss: 1443.2479248046875\n",
            "Iteration 600, Loss: 1443.2276611328125\n",
            "Iteration 700, Loss: 1443.2481689453125\n",
            "Iteration 800, Loss: 1443.2484130859375\n",
            "Iteration 900, Loss: 1443.2467041015625\n"
          ]
        }
      ]
    },
    {
      "cell_type": "code",
      "source": [
        "def visualize_image(img):\n",
        "    img = img.detach().cpu().squeeze().numpy()  # Remove channel dim if exists\n",
        "    img = (img - img.min()) / (img.max() - img.min())  # Normalize to [0,1]\n",
        "    img = np.mean(img, axis=0)\n",
        "    plt.imshow(img, cmap='gray')  # Use grayscale colormap\n",
        "    plt.axis(\"off\")\n",
        "    plt.show()\n",
        "\n",
        "visualize_image(best_img)"
      ],
      "metadata": {
        "id": "Li7iSQhswWWV",
        "colab": {
          "base_uri": "https://localhost:8080/",
          "height": 406
        },
        "outputId": "494f8055-f48e-438c-96b4-95850f86f2c4"
      },
      "execution_count": null,
      "outputs": [
        {
          "output_type": "display_data",
          "data": {
            "text/plain": [
              "<Figure size 640x480 with 1 Axes>"
            ],
            "image/png": "[encoded data removed]"
          },
          "metadata": {}
        }
      ]
    },
    {
      "cell_type": "markdown",
      "source": [
        "# Class Activation Map\n",
        "\n",
        "The input image size is 28x28. The class activation map doesn't work here because the last output of the convolutional layer of ResNet18 is 1x1 without any spatial dimension. So it doesn't make any sense. Yet, I have written the code, so that you can use for other use cases."
      ],
      "metadata": {
        "id": "DqORyKbSU2Ks"
      }
    },
    {
      "cell_type": "code",
      "source": [
        "import torch\n",
        "import torch.nn.functional as F\n",
        "import numpy as np\n",
        "import cv2\n",
        "import matplotlib.pyplot as plt\n",
        "from torchvision import models, transforms\n",
        "import torch.nn as nn\n",
        "\n",
        "# Load a modified ResNet18 model\n",
        "device = torch.device(\"cuda\" if torch.cuda.is_available() else \"cpu\")\n",
        "model.eval()\n",
        "\n",
        "# Define function to compute CAM\n",
        "def get_cam(model, image, class_idx=None):\n",
        "    # Get the last convolutional layer before GAP\n",
        "    feature_maps = None\n",
        "    def hook_fn(module, input, output):\n",
        "        nonlocal feature_maps\n",
        "        feature_maps = output  # Save feature maps\n",
        "\n",
        "    # Register hook on last convolutional layer\n",
        "    layer = model.features[-1]  # Last conv layer before GAP\n",
        "    hook = layer.register_forward_hook(hook_fn)\n",
        "\n",
        "    # Forward pass\n",
        "    image = image.unsqueeze(0).to(device)  # Add batch dimension\n",
        "    output = model(image)\n",
        "    hook.remove()\n",
        "\n",
        "    # Get predicted class if not provided\n",
        "    if class_idx is None:\n",
        "        class_idx = output.argmax(dim=1).item()\n",
        "\n",
        "    # Get feature maps from the last conv layer (Before GAP)\n",
        "    feature_maps = feature_maps.squeeze(0).cpu().detach()  # Shape: [512, H, W]\n",
        "\n",
        "    # Get FC layer weights for the predicted class\n",
        "    fc_weights = model.fc.weight[class_idx].detach().cpu().numpy()  # Shape: (512,)\n",
        "\n",
        "    print(feature_maps.shape)\n",
        "    print(fc_weights.shape)\n",
        "\n",
        "    # Compute CAM as weighted sum of feature maps\n",
        "    cam = torch.matmul(torch.tensor(fc_weights), feature_maps.view(512, -1)).view(feature_maps.shape[1:])\n",
        "\n",
        "    print(cam.shape)\n",
        "\n",
        "    # Normalize CAM\n",
        "    cam = cam - cam.min()\n",
        "    cam = cam / cam.max()\n",
        "    cam = cv2.resize(cam.numpy(), (image.shape[2], image.shape[3]))\n",
        "\n",
        "    return cam\n",
        "\n",
        "# Load a sample image\n",
        "transform = transforms.Compose([\n",
        "    transforms.Resize((224, 224)),\n",
        "    transforms.ToTensor(),\n",
        "])\n",
        "# Assume `image` is from the dataloader\n",
        "dataiter = iter(valloader)\n",
        "image, label = next(dataiter)\n",
        "image = image[0]  # Take a single image\n",
        "\n",
        "# Get CAM\n",
        "cam = get_cam(model, image)\n",
        "\n",
        "# Plot CAM overlay on image\n",
        "plt.figure(figsize=(6, 6))\n",
        "plt.imshow(image.permute(1, 2, 0).cpu().numpy(), alpha=0.5)\n",
        "plt.imshow(cam, cmap='jet', alpha=0.5)\n",
        "plt.axis('off')\n",
        "plt.title(\"Class Activation Map (CAM)\")\n",
        "plt.show()"
      ],
      "metadata": {
        "id": "FV4tSfOw0i1k",
        "colab": {
          "base_uri": "https://localhost:8080/",
          "height": 612
        },
        "outputId": "dae9cf45-2a29-4cdb-9abc-69c2987ae486"
      },
      "execution_count": null,
      "outputs": [
        {
          "output_type": "stream",
          "name": "stderr",
          "text": [
            "WARNING:matplotlib.image:Clipping input data to the valid range for imshow with RGB data ([0..1] for floats or [0..255] for integers). Got range [-1.0..1.0].\n"
          ]
        },
        {
          "output_type": "stream",
          "name": "stdout",
          "text": [
            "torch.Size([512, 1, 1])\n",
            "(512,)\n",
            "torch.Size([1, 1])\n"
          ]
        },
        {
          "output_type": "display_data",
          "data": {
            "text/plain": [
              "<Figure size 600x600 with 1 Axes>"
            ],
            "image/png": "[encoded data removed]"
          },
          "metadata": {}
        }
      ]
    }
  ]
}
