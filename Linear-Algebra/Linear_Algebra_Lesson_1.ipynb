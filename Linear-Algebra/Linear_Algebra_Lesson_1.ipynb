{
  "nbformat": 4,
  "nbformat_minor": 0,
  "metadata": {
    "colab": {
      "provenance": [],
      "collapsed_sections": [
        "7lV7p_S0tXhT"
      ]
    },
    "kernelspec": {
      "name": "python3",
      "display_name": "Python 3"
    },
    "language_info": {
      "name": "python"
    }
  },
  "cells": [
    {
      "cell_type": "markdown",
      "source": [
        "# Vectors"
      ],
      "metadata": {
        "id": "7lV7p_S0tXhT"
      }
    },
    {
      "cell_type": "markdown",
      "source": [
        "## Vector Representation"
      ],
      "metadata": {
        "id": "xDYJBQhA9frh"
      }
    },
    {
      "cell_type": "code",
      "source": [
        "v = [1,2,3,4]\n",
        "print(v)\n",
        "\n",
        "d = len(v)\n",
        "print(d)"
      ],
      "metadata": {
        "id": "DxmEnMpgX9GL",
        "colab": {
          "base_uri": "https://localhost:8080/"
        },
        "outputId": "f5f13886-3ba5-4714-c104-5beb00c84a8b"
      },
      "execution_count": null,
      "outputs": [
        {
          "output_type": "stream",
          "name": "stdout",
          "text": [
            "[1, 2, 3, 4]\n",
            "4\n"
          ]
        }
      ]
    },
    {
      "cell_type": "markdown",
      "source": [
        "## Vector Summation"
      ],
      "metadata": {
        "id": "oMr5OWIr9h-5"
      }
    },
    {
      "cell_type": "code",
      "source": [
        "v1 = ['ab', 'ac']\n",
        "v2 = [2,3,4]\n",
        "v = v1+v2\n",
        "print(v)"
      ],
      "metadata": {
        "colab": {
          "base_uri": "https://localhost:8080/"
        },
        "id": "O0zBJKVjtnn4",
        "outputId": "fb4dc595-b9cb-4b83-b7a5-cdf7350ccd89"
      },
      "execution_count": null,
      "outputs": [
        {
          "output_type": "stream",
          "name": "stdout",
          "text": [
            "[1, 2, 3, 2, 3, 4]\n"
          ]
        }
      ]
    },
    {
      "cell_type": "code",
      "source": [
        "v = [1,2,3]\n",
        "w = v*3\n",
        "print(w)"
      ],
      "metadata": {
        "id": "kr_rj1ZPRlJv",
        "outputId": "29d0cff8-0f86-4acf-ae35-168e33582456",
        "colab": {
          "base_uri": "https://localhost:8080/"
        }
      },
      "execution_count": null,
      "outputs": [
        {
          "output_type": "stream",
          "name": "stdout",
          "text": [
            "[1, 2, 3, 1, 2, 3, 1, 2, 3]\n"
          ]
        }
      ]
    },
    {
      "cell_type": "code",
      "source": [
        "v1 = [1,2,3]\n",
        "v2 = [2,3,4]\n",
        "\n",
        "# v = [None]*len(v1)\n",
        "# print(v)\n",
        "\n",
        "def sum(v1,v2):\n",
        "  v = [None]*len(v1)\n",
        "  for i in range(len(v1)):\n",
        "    v[i] = v1[i]-v2[i]\n",
        "  return v\n",
        "\n",
        "print(sum(v1,v2))"
      ],
      "metadata": {
        "colab": {
          "base_uri": "https://localhost:8080/"
        },
        "id": "bqs7C7OJz3nS",
        "outputId": "b48e8e4b-3cad-403c-9a35-f80d6a3b3cfb"
      },
      "execution_count": null,
      "outputs": [
        {
          "output_type": "stream",
          "name": "stdout",
          "text": [
            "[None, None, None]\n",
            "[-1, -1, -1]\n"
          ]
        }
      ]
    },
    {
      "cell_type": "markdown",
      "source": [
        "## Vector Scaling"
      ],
      "metadata": {
        "id": "zHzFZDbe-JNh"
      }
    },
    {
      "cell_type": "code",
      "source": [
        "def scale(v,a):\n",
        "  w = [None]*len(v)\n",
        "  for i in range(len(v)):\n",
        "    w[i] = a*v[i]\n",
        "  return v\n",
        "\n",
        "v = [1,4,5]\n",
        "a = 5\n",
        "\n",
        "print(scale(v,a))"
      ],
      "metadata": {
        "colab": {
          "base_uri": "https://localhost:8080/"
        },
        "id": "6R2Du5y301bn",
        "outputId": "bf8c124d-2fdf-41f1-c5e2-20f31f4f2c5c"
      },
      "execution_count": null,
      "outputs": [
        {
          "output_type": "stream",
          "name": "stdout",
          "text": [
            "[5, 20, 25]\n"
          ]
        }
      ]
    },
    {
      "cell_type": "markdown",
      "source": [
        "## Vector Linear Combination"
      ],
      "metadata": {
        "id": "XnyvRpo_-MBX"
      }
    },
    {
      "cell_type": "code",
      "source": [
        "def lin_com(v1,v2,a1,a2):\n",
        "  v = [None]*len(v1)\n",
        "  for i in range(len(v1)):\n",
        "    v[i] = a1*v1[i]+a2*v2[i]\n",
        "  return v\n",
        "\n",
        "v1 = [1,2,3]\n",
        "v2 = [2,3,4]\n",
        "a1 = 1\n",
        "a2 = -3\n",
        "\n",
        "print(lin_com(v1,v2,a1,a2))"
      ],
      "metadata": {
        "colab": {
          "base_uri": "https://localhost:8080/"
        },
        "id": "i6mQdoiV14Lf",
        "outputId": "cdbeee6f-1af1-4bbe-b935-f67c68086700"
      },
      "execution_count": null,
      "outputs": [
        {
          "output_type": "stream",
          "name": "stdout",
          "text": [
            "[-5, -7, -9]\n"
          ]
        }
      ]
    },
    {
      "cell_type": "markdown",
      "source": [
        "## Dot Product of Two Vectors"
      ],
      "metadata": {
        "id": "lXC9tINM2uie"
      }
    },
    {
      "cell_type": "code",
      "source": [
        "v1 = [1,2,3]\n",
        "v2 = [2,3,4]\n",
        "\n",
        "0\n",
        "0 + 1*2\n",
        "0 + 1*2 + 2*3\n",
        "0 + 1*2 + 2*3 + 3*4\n",
        "\n",
        "def dot_prod(v1,v2):\n",
        "\n",
        "  if len(v1) != len(v2):\n",
        "    return -1\n",
        "\n",
        "  dot = 0\n",
        "  for i in range(len(v1)):\n",
        "     dot = dot + v1[i]*v2[i]\n",
        "  return dot\n",
        "\n",
        "print(dot_prod(v1,v2))"
      ],
      "metadata": {
        "colab": {
          "base_uri": "https://localhost:8080/"
        },
        "id": "4I_I6_WM2dM4",
        "outputId": "e69772d6-4c0a-4289-8bcc-90e9c940aa76"
      },
      "execution_count": null,
      "outputs": [
        {
          "output_type": "stream",
          "name": "stdout",
          "text": [
            "20\n"
          ]
        }
      ]
    },
    {
      "cell_type": "markdown",
      "source": [
        "## Norm of a Vector"
      ],
      "metadata": {
        "id": "WDXhAQ9C9ulf"
      }
    },
    {
      "cell_type": "code",
      "source": [
        "v = [1,2,3]\n",
        "\n",
        "0\n",
        "0 + 1*1\n",
        "0 + 1*1 + 2*2\n",
        "0 + 1*1 + 2*2 + 3*3\n",
        "\n",
        "def norm(v):\n",
        "  n = 0\n",
        "  for i in range(len(v)):\n",
        "    n = n + v[i]**2\n",
        "  n = n**0.5\n",
        "  return n\n",
        "\n",
        "print(norm(v))"
      ],
      "metadata": {
        "colab": {
          "base_uri": "https://localhost:8080/"
        },
        "id": "yz3Shzal3-fp",
        "outputId": "9083636b-b76b-4c57-9f7c-fdecee256697"
      },
      "execution_count": null,
      "outputs": [
        {
          "output_type": "stream",
          "name": "stdout",
          "text": [
            "3.7416573867739413\n"
          ]
        }
      ]
    },
    {
      "cell_type": "code",
      "source": [
        "def norm1(v):\n",
        "  n = dot_prod(v,v)\n",
        "  n = n**0.5\n",
        "  return n\n",
        "\n",
        "print(norm1(v))"
      ],
      "metadata": {
        "colab": {
          "base_uri": "https://localhost:8080/"
        },
        "id": "EU4JrTED4qeQ",
        "outputId": "e52f31c0-641e-447c-fb9c-72d76d747e0d"
      },
      "execution_count": null,
      "outputs": [
        {
          "output_type": "stream",
          "name": "stdout",
          "text": [
            "3.7416573867739413\n"
          ]
        }
      ]
    },
    {
      "cell_type": "markdown",
      "source": [
        "# Matrices"
      ],
      "metadata": {
        "id": "zfbjkTNl5gnz"
      }
    },
    {
      "cell_type": "markdown",
      "source": [
        "## Matrix Representation"
      ],
      "metadata": {
        "id": "yNytAcKJ91eA"
      }
    },
    {
      "cell_type": "code",
      "source": [
        "m = [[1,2,4], [2,3,5], [4,5,6], [7,8,9]]\n",
        "print(m[1]) # 2nd row vector ith row\n",
        "print(m[1][2])\n",
        "#m[i][j] is the element in ith row and jth column"
      ],
      "metadata": {
        "colab": {
          "base_uri": "https://localhost:8080/"
        },
        "id": "FLtoDOzB8BBo",
        "outputId": "b70db502-04a2-4acd-92fe-0f079d8e5f2c"
      },
      "execution_count": null,
      "outputs": [
        {
          "output_type": "stream",
          "name": "stdout",
          "text": [
            "[2, 3, 5]\n",
            "5\n"
          ]
        }
      ]
    },
    {
      "cell_type": "code",
      "source": [
        "m = [[1,2,4], [2,3,5], [4,5,6], [7,8,9]]\n",
        "n_rows = len(m)\n",
        "n_cols = len(m[0])\n",
        "print(n_rows)\n",
        "print(n_cols)"
      ],
      "metadata": {
        "colab": {
          "base_uri": "https://localhost:8080/"
        },
        "id": "NE6WPqqP4_Y7",
        "outputId": "72fc7986-62f7-4a3c-c8fe-f068ca47632b"
      },
      "execution_count": null,
      "outputs": [
        {
          "output_type": "stream",
          "name": "stdout",
          "text": [
            "4\n",
            "3\n"
          ]
        }
      ]
    },
    {
      "cell_type": "markdown",
      "source": [
        "## Matrix Summation"
      ],
      "metadata": {
        "id": "RRBQ-Aa994K0"
      }
    },
    {
      "cell_type": "code",
      "source": [
        "m1 = [[1,2,4], [2,3,5], [4,5,6], [7,8,9]]\n",
        "m2 = [[1,2,5], [2,7,5], [9,5,6], [7,0,9]]\n",
        "\n",
        "def add(m1,m2):\n",
        "  m = [[0,0,0], [0,0,0], [0,0,0], [0,0,0]]\n",
        "  for i in range(len(m1)): # running over rows\n",
        "     for j in range(len(m1[0])): # running over columns\n",
        "         m[i][j] = m1[i][j] + m2[i][j]\n",
        "  return m\n",
        "\n",
        "print(add(m1,m2))"
      ],
      "metadata": {
        "colab": {
          "base_uri": "https://localhost:8080/"
        },
        "id": "-WheUtB168Xk",
        "outputId": "7f557483-fadd-463f-acf3-e7fbd3f55741"
      },
      "execution_count": null,
      "outputs": [
        {
          "output_type": "stream",
          "name": "stdout",
          "text": [
            "[[2, 4, 9], [4, 10, 10], [13, 10, 12], [14, 8, 18]]\n"
          ]
        }
      ]
    },
    {
      "cell_type": "markdown",
      "source": [
        "## Next Day\n",
        "\n",
        "* how can you change the row view to column view?"
      ],
      "metadata": {
        "id": "Ug4bwKNS8l6m"
      }
    },
    {
      "cell_type": "code",
      "source": [
        "m_row = [[1,2,4], [2,3,5], [4,5,6], [7,8,9]]\n",
        "m_col = [[1,2,4,7], [2,3,5,8], [4,5,6,9]]\n",
        "\n",
        "# define a fun. that changes m_row to m_col\n",
        "# m_t[i][j] = m[j][i]\n",
        "\n",
        "# why this is important?\n",
        "# matrix multiply m = m1*m2\n",
        "# m[i][j] = dot product of ith row of m1 and jth column of m2\n",
        "# we need to access rows of m1\n",
        "# we need to access columns of m2\n",
        "# then do dot product"
      ],
      "metadata": {
        "id": "1EB_JIOH8x6D"
      },
      "execution_count": null,
      "outputs": []
    },
    {
      "cell_type": "code",
      "source": [
        "# transpose\n",
        "\n",
        "def transp(m):\n"
      ],
      "metadata": {
        "colab": {
          "base_uri": "https://localhost:8080/"
        },
        "id": "NFZCgKYiP-Fe",
        "outputId": "232bf64b-93e1-44b7-f4b4-81b1e67f6b8d"
      },
      "execution_count": null,
      "outputs": [
        {
          "output_type": "stream",
          "name": "stdout",
          "text": [
            "[[1, 2, 4], [2, 3, 5], [4, 5, 6], [7, 8, 9]]\n"
          ]
        }
      ]
    },
    {
      "cell_type": "code",
      "source": [
        "def transpose_matrix(matrix):\n",
        "    \"\"\"Returns the transpose of a given matrix.\"\"\"\n",
        "    rows = len(matrix)\n",
        "    cols = len(matrix[0]) if rows > 0 else 0\n",
        "    return [[matrix[j][i] for j in range(rows)] for i in range(cols)]\n",
        "\n",
        "# Example usage:\n",
        "matrix = [\n",
        "    [1, 2, 3],\n",
        "    [4, 5, 6]\n",
        "]\n",
        "\n",
        "transposed = transpose_matrix(matrix)\n",
        "print(transposed)"
      ],
      "metadata": {
        "colab": {
          "base_uri": "https://localhost:8080/"
        },
        "id": "qksOdWWpQF4K",
        "outputId": "0e94d045-c4e6-43c0-a8db-a40fc817f633"
      },
      "execution_count": null,
      "outputs": [
        {
          "output_type": "stream",
          "name": "stdout",
          "text": [
            "[[1, 4], [2, 5], [3, 6]]\n"
          ]
        }
      ]
    }
  ]
}
