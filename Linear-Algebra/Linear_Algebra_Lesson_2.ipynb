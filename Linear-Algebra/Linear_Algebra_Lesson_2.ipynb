{
  "nbformat": 4,
  "nbformat_minor": 0,
  "metadata": {
    "colab": {
      "provenance": [],
      "collapsed_sections": [
        "hYfo0KKwtemG",
        "F9wqkfMFthF-",
        "SDqHrvWotjOc",
        "VJKVA3L1tn4H",
        "fO4sgfhqtqNj",
        "mSLz_ttets3q",
        "vbkoWBf_-oKr"
      ]
    },
    "kernelspec": {
      "name": "python3",
      "display_name": "Python 3"
    },
    "language_info": {
      "name": "python"
    }
  },
  "cells": [
    {
      "cell_type": "markdown",
      "source": [
        "## List Comprehension"
      ],
      "metadata": {
        "id": "hYfo0KKwtemG"
      }
    },
    {
      "cell_type": "code",
      "source": [
        "score_list = [72,88,95,60,83]\n",
        "max_score = max(score_list)"
      ],
      "metadata": {
        "id": "vcMuat4Htg4c"
      },
      "execution_count": 81,
      "outputs": []
    },
    {
      "cell_type": "code",
      "source": [
        "norm_score = [sc / max_score for sc in score_list]"
      ],
      "metadata": {
        "id": "9CsQEp0n_A4O",
        "collapsed": true
      },
      "execution_count": 84,
      "outputs": []
    },
    {
      "cell_type": "markdown",
      "source": [
        "## Generator Expressions"
      ],
      "metadata": {
        "id": "F9wqkfMFthF-"
      }
    },
    {
      "cell_type": "code",
      "source": [
        "arr = [1,2,3]\n",
        "sq = (a**2 for a in arr)\n",
        "print(sq)\n",
        "lsq = [a**2 for a in arr]\n",
        "print(lsq)\n",
        "s1 = min(sq)\n",
        "s2 = min(lsq)\n",
        "print(s1)"
      ],
      "metadata": {
        "id": "ScyATqOvti-k",
        "colab": {
          "base_uri": "https://localhost:8080/"
        },
        "outputId": "1d013bba-5aa3-4c62-a2bf-8585024a920b"
      },
      "execution_count": 21,
      "outputs": [
        {
          "output_type": "stream",
          "name": "stdout",
          "text": [
            "<generator object <genexpr> at 0x7ce65a01f510>\n",
            "[1, 4, 9]\n",
            "1\n"
          ]
        }
      ]
    },
    {
      "cell_type": "markdown",
      "source": [
        "## Zipping"
      ],
      "metadata": {
        "id": "SDqHrvWotjOc"
      }
    },
    {
      "cell_type": "code",
      "source": [
        "v1 = [1,2,3]\n",
        "v2 = [3,4,5]\n",
        "v3 = [6,7,5]\n",
        "\n",
        "print(list(zip(v1,v2,v3)))"
      ],
      "metadata": {
        "id": "H-S0pIuLtnpf",
        "colab": {
          "base_uri": "https://localhost:8080/"
        },
        "outputId": "76603d29-82f4-4988-9f37-14fcb062b70f"
      },
      "execution_count": 26,
      "outputs": [
        {
          "output_type": "stream",
          "name": "stdout",
          "text": [
            "[(1, 3, 6), (2, 4, 7), (3, 5, 5)]\n"
          ]
        }
      ]
    },
    {
      "cell_type": "markdown",
      "source": [
        "## Argument Unpacking"
      ],
      "metadata": {
        "id": "VJKVA3L1tn4H"
      }
    },
    {
      "cell_type": "code",
      "source": [
        "lst = [1,2,3]\n",
        "print(*lst)"
      ],
      "metadata": {
        "id": "o1cTzNJWtp7F",
        "colab": {
          "base_uri": "https://localhost:8080/"
        },
        "outputId": "f7b62d00-ccd1-46a3-dd50-a36361e92273"
      },
      "execution_count": 27,
      "outputs": [
        {
          "output_type": "stream",
          "name": "stdout",
          "text": [
            "1 2 3\n"
          ]
        }
      ]
    },
    {
      "cell_type": "code",
      "source": [
        "m = [[1,2,3], [3,4,5]]\n",
        "print(*m)"
      ],
      "metadata": {
        "colab": {
          "base_uri": "https://localhost:8080/"
        },
        "id": "Hi0JumCUCToz",
        "outputId": "4d9aaad8-c757-4c05-cb8a-618238676317"
      },
      "execution_count": 28,
      "outputs": [
        {
          "output_type": "stream",
          "name": "stdout",
          "text": [
            "[1, 2, 3] [3, 4, 5]\n"
          ]
        }
      ]
    },
    {
      "cell_type": "markdown",
      "source": [
        "## Nested List Comprehension\n",
        "\n",
        "* Pattern: [ [ inner-loop ] for outer-loop ]"
      ],
      "metadata": {
        "id": "fO4sgfhqtqNj"
      }
    },
    {
      "cell_type": "code",
      "source": [
        "m = [[1,2,3], [3,4,5]]"
      ],
      "metadata": {
        "id": "lnLMp5W7tsnv"
      },
      "execution_count": null,
      "outputs": []
    },
    {
      "cell_type": "code",
      "source": [
        "m[0][2]"
      ],
      "metadata": {
        "colab": {
          "base_uri": "https://localhost:8080/"
        },
        "id": "7nZWXra-Dsnh",
        "outputId": "e264a16a-679a-4878-cddb-26aabc8438a9"
      },
      "execution_count": 32,
      "outputs": [
        {
          "output_type": "execute_result",
          "data": {
            "text/plain": [
              "3"
            ]
          },
          "metadata": {},
          "execution_count": 32
        }
      ]
    },
    {
      "cell_type": "code",
      "source": [
        "identity = []\n",
        "for i in range(3):\n",
        "    row = []\n",
        "    for j in range(3):\n",
        "        row.append(1 if i == j else 0)\n",
        "    identity.append(row)\n",
        "\n",
        "identity = [[1 if i == j else 0 for j in range(3)] for i in range(3)]"
      ],
      "metadata": {
        "id": "Azm329SJDEZn"
      },
      "execution_count": 33,
      "outputs": []
    },
    {
      "cell_type": "code",
      "source": [
        "[[1 if i == j else 0 for j in range(3)] for i in range(3)]"
      ],
      "metadata": {
        "id": "UNfL6kNGDOce"
      },
      "execution_count": null,
      "outputs": []
    },
    {
      "cell_type": "markdown",
      "source": [
        "## Lambda Function\n",
        "\n",
        "f: R -> R"
      ],
      "metadata": {
        "id": "mSLz_ttets3q"
      }
    },
    {
      "cell_type": "code",
      "source": [
        "def f(x):\n",
        "  x = x+1\n",
        "  return x\n",
        "\n",
        "lambda x: x+1"
      ],
      "metadata": {
        "id": "Egi0RKkttufj",
        "colab": {
          "base_uri": "https://localhost:8080/"
        },
        "outputId": "b8f929ce-5b55-4b67-85a8-b7e0da671d65"
      },
      "execution_count": 34,
      "outputs": [
        {
          "output_type": "execute_result",
          "data": {
            "text/plain": [
              "<function __main__.<lambda>(x)>"
            ]
          },
          "metadata": {},
          "execution_count": 34
        }
      ]
    },
    {
      "cell_type": "code",
      "source": [
        "(lambda x: x+1)(2)"
      ],
      "metadata": {
        "colab": {
          "base_uri": "https://localhost:8080/"
        },
        "id": "f-3J2_5xE463",
        "outputId": "7296338e-574e-401f-8b51-2db920b6dcb6"
      },
      "execution_count": 36,
      "outputs": [
        {
          "output_type": "execute_result",
          "data": {
            "text/plain": [
              "3"
            ]
          },
          "metadata": {},
          "execution_count": 36
        }
      ]
    },
    {
      "cell_type": "code",
      "source": [
        "nums = [9,15,11,13]\n",
        "m = min(nums, key = lambda x:abs(x-10))\n",
        "sort = sorted(nums, key = lambda x:abs(x-10))\n",
        "print(sort)"
      ],
      "metadata": {
        "colab": {
          "base_uri": "https://localhost:8080/"
        },
        "id": "T4rrwREXE-PA",
        "outputId": "d795006b-cba7-43fa-f3f5-c3dfbd229119"
      },
      "execution_count": 39,
      "outputs": [
        {
          "output_type": "stream",
          "name": "stdout",
          "text": [
            "[9, 11, 13, 15]\n"
          ]
        }
      ]
    },
    {
      "cell_type": "markdown",
      "source": [
        "# Vectors"
      ],
      "metadata": {
        "id": "7lV7p_S0tXhT"
      }
    },
    {
      "cell_type": "markdown",
      "source": [
        "## Cosine Similarity Between Two Vectors\n",
        "* list comprehension, zipping, generator expressions"
      ],
      "metadata": {
        "id": "vbkoWBf_-oKr"
      }
    },
    {
      "cell_type": "code",
      "source": [
        "v1 = [1,2,3]\n",
        "v2 = [2,3,4]\n",
        "\n",
        "def cos_sim(v1,v2):\n",
        "    norm1 = sum(a**2 for a in v1)**0.5\n",
        "    norm2 = sum(b**2 for b in v2)**0.5\n",
        "    return sum(x*y for x,y in zip(v1,v2))/(norm1*norm2)\n",
        "\n",
        "print(cos_sim(v1,v2))"
      ],
      "metadata": {
        "id": "hmpIBVFG-rRV",
        "colab": {
          "base_uri": "https://localhost:8080/"
        },
        "outputId": "b358d021-4bfd-487e-c62b-e55251cbcc25"
      },
      "execution_count": 41,
      "outputs": [
        {
          "output_type": "stream",
          "name": "stdout",
          "text": [
            "0.9925833339709303\n"
          ]
        }
      ]
    },
    {
      "cell_type": "markdown",
      "source": [
        "# Matrices"
      ],
      "metadata": {
        "id": "zfbjkTNl5gnz"
      }
    },
    {
      "cell_type": "markdown",
      "source": [
        "## Matrix Addition\n",
        "\n",
        "* nested list comprehension, zipping"
      ],
      "metadata": {
        "id": "SftjMmGbqVtQ"
      }
    },
    {
      "cell_type": "code",
      "source": [
        "m1 = [[1,2,4], [2,3,5], [4,5,6], [7,8,9]]\n",
        "m2 = [[1,2,5], [2,7,5], [9,5,6], [7,0,9]]\n",
        "m3 = [[1,2,5], [2,7,5], [9,5,6], [7,0,9]]"
      ],
      "metadata": {
        "id": "ZcU4ENImqYUM"
      },
      "execution_count": 73,
      "outputs": []
    },
    {
      "cell_type": "code",
      "source": [
        "list(zip(m1,m2)) #accessing the pairwise rows of m1, m2"
      ],
      "metadata": {
        "colab": {
          "base_uri": "https://localhost:8080/"
        },
        "id": "rY2nj11-JO-r",
        "outputId": "7d404eb2-6224-4f62-8986-b3580119d530"
      },
      "execution_count": 51,
      "outputs": [
        {
          "output_type": "execute_result",
          "data": {
            "text/plain": [
              "[([1, 2, 4], [1, 2, 5]),\n",
              " ([2, 3, 5], [2, 7, 5]),\n",
              " ([4, 5, 6], [9, 5, 6]),\n",
              " ([7, 8, 9], [7, 0, 9])]"
            ]
          },
          "metadata": {},
          "execution_count": 51
        }
      ]
    },
    {
      "cell_type": "code",
      "source": [
        "list(zip(m1,m2))[0] #first"
      ],
      "metadata": {
        "colab": {
          "base_uri": "https://localhost:8080/"
        },
        "id": "BsWU11ZbJacU",
        "outputId": "47565a76-2a14-4f3f-e5ac-20f596a55c86"
      },
      "execution_count": 50,
      "outputs": [
        {
          "output_type": "execute_result",
          "data": {
            "text/plain": [
              "([1, 2, 4], [1, 2, 5])"
            ]
          },
          "metadata": {},
          "execution_count": 50
        }
      ]
    },
    {
      "cell_type": "code",
      "source": [
        "[a+b for a,b in zip([1, 2, 4], [1, 2, 5])] #[1, 2, 4], [1, 2, 5] #accessing row elements"
      ],
      "metadata": {
        "colab": {
          "base_uri": "https://localhost:8080/"
        },
        "id": "OdVYHIh9Jh3F",
        "outputId": "c656b857-71e6-408b-d412-d744c9c5aa6a"
      },
      "execution_count": 54,
      "outputs": [
        {
          "output_type": "execute_result",
          "data": {
            "text/plain": [
              "[2, 4, 9]"
            ]
          },
          "metadata": {},
          "execution_count": 54
        }
      ]
    },
    {
      "cell_type": "code",
      "source": [
        "# zip(A,B) = pairs of rows in outer loop\n",
        "# zip(rowA, rowB) = pairs of elements in inner loop\n",
        "\n",
        "def add(A,B):\n",
        "   return [[a+b for a,b in zip(rowA, robB)] for rowA, robB in zip(A,B)]\n",
        "\n",
        "print(add(m1,m2))"
      ],
      "metadata": {
        "colab": {
          "base_uri": "https://localhost:8080/"
        },
        "id": "Hvc7XeTeHZHX",
        "outputId": "ba97b003-654c-45b9-efd5-0141f0852f02"
      },
      "execution_count": 48,
      "outputs": [
        {
          "output_type": "stream",
          "name": "stdout",
          "text": [
            "[[2, 4, 9], [4, 10, 10], [13, 10, 12], [14, 8, 18]]\n"
          ]
        }
      ]
    },
    {
      "cell_type": "code",
      "source": [
        "#multiple matrix addition\n",
        "\n",
        "def add2(*matrices):\n",
        "  return [[sum(values) for values in zip(*rows)] for rows in zip(*matrices)]"
      ],
      "metadata": {
        "id": "TlIfpywiPP-A"
      },
      "execution_count": 76,
      "outputs": []
    },
    {
      "cell_type": "code",
      "source": [
        "m4 = m1\n",
        "add2(m1,m2,m3,m4)"
      ],
      "metadata": {
        "colab": {
          "base_uri": "https://localhost:8080/"
        },
        "id": "vSBE8OY2QMpC",
        "outputId": "b3e675f8-96a0-4ed2-fd95-c5f7e888c1cd"
      },
      "execution_count": 78,
      "outputs": [
        {
          "output_type": "execute_result",
          "data": {
            "text/plain": [
              "[[4, 8, 18], [8, 20, 20], [26, 20, 24], [28, 16, 36]]"
            ]
          },
          "metadata": {},
          "execution_count": 78
        }
      ]
    },
    {
      "cell_type": "markdown",
      "source": [
        "## Matrix Scaling"
      ],
      "metadata": {
        "id": "bAj6qUzq-hED"
      }
    },
    {
      "cell_type": "code",
      "source": [],
      "metadata": {
        "id": "MxraPdOD-kag",
        "colab": {
          "base_uri": "https://localhost:8080/"
        },
        "outputId": "65697638-7d6e-4362-957f-33cf895f24f2"
      },
      "execution_count": 56,
      "outputs": [
        {
          "output_type": "execute_result",
          "data": {
            "text/plain": [
              "[(1, 2, 4, 7), (2, 3, 5, 8), (4, 5, 6, 9)]"
            ]
          },
          "metadata": {},
          "execution_count": 56
        }
      ]
    },
    {
      "cell_type": "markdown",
      "source": [
        "## Tranpose of a Matrix\n",
        "\n",
        "* Argument Unpacking, Zipping"
      ],
      "metadata": {
        "id": "md1Zdyls-Tkz"
      }
    },
    {
      "cell_type": "code",
      "source": [
        "matrix = [[1,2,4], [2,3,5], [4,5,6], [7,8,9]]\n",
        "\n",
        "list(zip([1,2,4], [2,3,5], [4,5,6], [7,8,9])) # we need the rows to be arguments of zip\n",
        "\n",
        "print(*matrix) # argument unpacking transforms matrix into the rows argument"
      ],
      "metadata": {
        "id": "B7YMXJd2-YfH",
        "colab": {
          "base_uri": "https://localhost:8080/"
        },
        "outputId": "d5987c6c-bbc4-46f0-93e5-1047bd45a75d"
      },
      "execution_count": 59,
      "outputs": [
        {
          "output_type": "stream",
          "name": "stdout",
          "text": [
            "[1, 2, 4] [2, 3, 5] [4, 5, 6] [7, 8, 9]\n"
          ]
        }
      ]
    },
    {
      "cell_type": "code",
      "source": [
        "list(zip(*matrix))"
      ],
      "metadata": {
        "colab": {
          "base_uri": "https://localhost:8080/"
        },
        "id": "A-ce5a6aLfrd",
        "outputId": "af329096-01c2-4998-9f7b-bf88fe11c5cf"
      },
      "execution_count": 61,
      "outputs": [
        {
          "output_type": "execute_result",
          "data": {
            "text/plain": [
              "[(1, 2, 4, 7), (2, 3, 5, 8), (4, 5, 6, 9)]"
            ]
          },
          "metadata": {},
          "execution_count": 61
        }
      ]
    },
    {
      "cell_type": "code",
      "source": [
        "transpose = [list(col) for col in zip(*matrix)]\n",
        "transpose"
      ],
      "metadata": {
        "colab": {
          "base_uri": "https://localhost:8080/"
        },
        "id": "uB4tqGwtLLsi",
        "outputId": "f62383f8-246d-4a30-d38e-72f2a5571351"
      },
      "execution_count": 63,
      "outputs": [
        {
          "output_type": "execute_result",
          "data": {
            "text/plain": [
              "[[1, 2, 4, 7], [2, 3, 5, 8], [4, 5, 6, 9]]"
            ]
          },
          "metadata": {},
          "execution_count": 63
        }
      ]
    },
    {
      "cell_type": "markdown",
      "source": [
        "## Matrix Vector Dot Product\n",
        "\n",
        "* zipping, list comprehension, generator expression"
      ],
      "metadata": {
        "id": "cM9jMSg4-eFq"
      }
    },
    {
      "cell_type": "code",
      "source": [
        "A = [\n",
        "    [1, 2, 3],\n",
        "    [4, 5, 6]\n",
        "]\n",
        "x = [1, 0, -1]\n",
        "\n",
        "#[1*1 + 2*0 + 3*(-1), 4*1 + 5*0 + 6*(-1)] = [-2, -2]"
      ],
      "metadata": {
        "id": "2GhuEaCJ-gZr"
      },
      "execution_count": 64,
      "outputs": []
    },
    {
      "cell_type": "code",
      "source": [
        "[sum(a*b for a,b in zip(row,x)) for row in A]"
      ],
      "metadata": {
        "colab": {
          "base_uri": "https://localhost:8080/"
        },
        "id": "TPLBux5mLxke",
        "outputId": "afb742ea-3112-4e4d-af1c-2352d030b73b"
      },
      "execution_count": 65,
      "outputs": [
        {
          "output_type": "execute_result",
          "data": {
            "text/plain": [
              "[-2, -2]"
            ]
          },
          "metadata": {},
          "execution_count": 65
        }
      ]
    },
    {
      "cell_type": "markdown",
      "source": [
        "## Matrix Multiplication"
      ],
      "metadata": {
        "id": "KTJlFliM-V3H"
      }
    },
    {
      "cell_type": "code",
      "source": [
        "# AB = C\n",
        "# C[i][j] = dot product of ith row of A and jth column B\n",
        "\n",
        "# dot product = generator expression + zipping of ith row of A and jth column B"
      ],
      "metadata": {
        "id": "NEksDO0v-ZGK"
      },
      "execution_count": null,
      "outputs": []
    },
    {
      "cell_type": "code",
      "source": [
        "A = [\n",
        "    [1, 2, 3],\n",
        "    [4, 5, 6]\n",
        "]\n",
        "\n",
        "B = [\n",
        "    [7, 8],\n",
        "    [9, 10],\n",
        "    [11, 12]\n",
        "]"
      ],
      "metadata": {
        "id": "pDT8tESbM2LX"
      },
      "execution_count": 66,
      "outputs": []
    },
    {
      "cell_type": "code",
      "source": [
        "cols = zip(*B)\n",
        "list(cols)"
      ],
      "metadata": {
        "colab": {
          "base_uri": "https://localhost:8080/"
        },
        "id": "AoPBiOsKMx95",
        "outputId": "eab50607-f856-4379-a694-2c9bd82ec3d5"
      },
      "execution_count": 71,
      "outputs": [
        {
          "output_type": "execute_result",
          "data": {
            "text/plain": [
              "[(7, 9, 11), (8, 10, 12)]"
            ]
          },
          "metadata": {},
          "execution_count": 71
        }
      ]
    },
    {
      "cell_type": "code",
      "source": [
        "# ith row of C = A*B = sequence of dot products of ith row of A and all the columns of B"
      ],
      "metadata": {
        "id": "GEviEFRaN_lv"
      },
      "execution_count": null,
      "outputs": []
    },
    {
      "cell_type": "code",
      "source": [
        "def matmul(A,B):\n",
        "   return [[sum (a*b for a,b in zip(rowA, colB)) # dot product of rowA and colB\n",
        "   for colB in zip(*B)]\n",
        "   for rowA in A]"
      ],
      "metadata": {
        "id": "Hjvr-NSxNCUw"
      },
      "execution_count": 69,
      "outputs": []
    },
    {
      "cell_type": "code",
      "source": [
        "matmul(A,B)"
      ],
      "metadata": {
        "colab": {
          "base_uri": "https://localhost:8080/"
        },
        "id": "E7SNapDnOO2s",
        "outputId": "882e62fd-986e-401d-e81b-70c7bdd72ec3"
      },
      "execution_count": 70,
      "outputs": [
        {
          "output_type": "execute_result",
          "data": {
            "text/plain": [
              "[[58, 64], [139, 154]]"
            ]
          },
          "metadata": {},
          "execution_count": 70
        }
      ]
    },
    {
      "cell_type": "markdown",
      "source": [
        "## Matrix Mean by Row or Column (HW)"
      ],
      "metadata": {
        "id": "onMX95XJ-ZnU"
      }
    },
    {
      "cell_type": "code",
      "source": [],
      "metadata": {
        "id": "pnerm-oh_KIY"
      },
      "execution_count": null,
      "outputs": []
    }
  ]
}